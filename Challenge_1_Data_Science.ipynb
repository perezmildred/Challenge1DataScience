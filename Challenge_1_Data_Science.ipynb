{
  "nbformat": 4,
  "nbformat_minor": 0,
  "metadata": {
    "colab": {
      "provenance": []
    },
    "kernelspec": {
      "name": "python3",
      "display_name": "Python 3"
    },
    "language_info": {
      "name": "python"
    }
  },
  "cells": [
    {
      "cell_type": "markdown",
      "source": [
        "### Importación de datos\n",
        "\n"
      ],
      "metadata": {
        "id": "RhEdWd9YUR6H"
      }
    },
    {
      "cell_type": "code",
      "execution_count": 1,
      "metadata": {
        "colab": {
          "base_uri": "https://localhost:8080/",
          "height": 310
        },
        "id": "T3EvaeQ_INIL",
        "outputId": "6ee18750-1888-49bb-a131-cab2f65f2a7f"
      },
      "outputs": [
        {
          "output_type": "execute_result",
          "data": {
            "text/plain": [
              "            Producto Categoría del Producto    Precio  Costo de envío  \\\n",
              "0  Asistente virtual           Electrónicos  164300.0          6900.0   \n",
              "1    Mesa de comedor                Muebles  192300.0          8400.0   \n",
              "2      Juego de mesa               Juguetes  209600.0         15900.0   \n",
              "3         Microondas      Electrodomésticos  757500.0         41000.0   \n",
              "4   Silla de oficina                Muebles  335200.0         20200.0   \n",
              "\n",
              "  Fecha de Compra         Vendedor Lugar de Compra  Calificación  \\\n",
              "0      16/01/2021      Pedro Gomez          Bogotá             4   \n",
              "1      18/05/2022  Beatriz Morales        Medellín             1   \n",
              "2      15/03/2021   Juan Fernandez       Cartagena             1   \n",
              "3      03/05/2022   Juan Fernandez            Cali             4   \n",
              "4      07/11/2020    Maria Alfonso        Medellín             5   \n",
              "\n",
              "       Método de pago  Cantidad de cuotas       lat       lon  \n",
              "0  Tarjeta de crédito                   8   4.60971 -74.08175  \n",
              "1  Tarjeta de crédito                   4   6.25184 -75.56359  \n",
              "2  Tarjeta de crédito                   1  10.39972 -75.51444  \n",
              "3               Nequi                   1   3.43722 -76.52250  \n",
              "4               Nequi                   1   6.25184 -75.56359  "
            ],
            "text/html": [
              "\n",
              "  <div id=\"df-68eaf336-c63e-4e4f-a541-29480345ddf1\" class=\"colab-df-container\">\n",
              "    <div>\n",
              "<style scoped>\n",
              "    .dataframe tbody tr th:only-of-type {\n",
              "        vertical-align: middle;\n",
              "    }\n",
              "\n",
              "    .dataframe tbody tr th {\n",
              "        vertical-align: top;\n",
              "    }\n",
              "\n",
              "    .dataframe thead th {\n",
              "        text-align: right;\n",
              "    }\n",
              "</style>\n",
              "<table border=\"1\" class=\"dataframe\">\n",
              "  <thead>\n",
              "    <tr style=\"text-align: right;\">\n",
              "      <th></th>\n",
              "      <th>Producto</th>\n",
              "      <th>Categoría del Producto</th>\n",
              "      <th>Precio</th>\n",
              "      <th>Costo de envío</th>\n",
              "      <th>Fecha de Compra</th>\n",
              "      <th>Vendedor</th>\n",
              "      <th>Lugar de Compra</th>\n",
              "      <th>Calificación</th>\n",
              "      <th>Método de pago</th>\n",
              "      <th>Cantidad de cuotas</th>\n",
              "      <th>lat</th>\n",
              "      <th>lon</th>\n",
              "    </tr>\n",
              "  </thead>\n",
              "  <tbody>\n",
              "    <tr>\n",
              "      <th>0</th>\n",
              "      <td>Asistente virtual</td>\n",
              "      <td>Electrónicos</td>\n",
              "      <td>164300.0</td>\n",
              "      <td>6900.0</td>\n",
              "      <td>16/01/2021</td>\n",
              "      <td>Pedro Gomez</td>\n",
              "      <td>Bogotá</td>\n",
              "      <td>4</td>\n",
              "      <td>Tarjeta de crédito</td>\n",
              "      <td>8</td>\n",
              "      <td>4.60971</td>\n",
              "      <td>-74.08175</td>\n",
              "    </tr>\n",
              "    <tr>\n",
              "      <th>1</th>\n",
              "      <td>Mesa de comedor</td>\n",
              "      <td>Muebles</td>\n",
              "      <td>192300.0</td>\n",
              "      <td>8400.0</td>\n",
              "      <td>18/05/2022</td>\n",
              "      <td>Beatriz Morales</td>\n",
              "      <td>Medellín</td>\n",
              "      <td>1</td>\n",
              "      <td>Tarjeta de crédito</td>\n",
              "      <td>4</td>\n",
              "      <td>6.25184</td>\n",
              "      <td>-75.56359</td>\n",
              "    </tr>\n",
              "    <tr>\n",
              "      <th>2</th>\n",
              "      <td>Juego de mesa</td>\n",
              "      <td>Juguetes</td>\n",
              "      <td>209600.0</td>\n",
              "      <td>15900.0</td>\n",
              "      <td>15/03/2021</td>\n",
              "      <td>Juan Fernandez</td>\n",
              "      <td>Cartagena</td>\n",
              "      <td>1</td>\n",
              "      <td>Tarjeta de crédito</td>\n",
              "      <td>1</td>\n",
              "      <td>10.39972</td>\n",
              "      <td>-75.51444</td>\n",
              "    </tr>\n",
              "    <tr>\n",
              "      <th>3</th>\n",
              "      <td>Microondas</td>\n",
              "      <td>Electrodomésticos</td>\n",
              "      <td>757500.0</td>\n",
              "      <td>41000.0</td>\n",
              "      <td>03/05/2022</td>\n",
              "      <td>Juan Fernandez</td>\n",
              "      <td>Cali</td>\n",
              "      <td>4</td>\n",
              "      <td>Nequi</td>\n",
              "      <td>1</td>\n",
              "      <td>3.43722</td>\n",
              "      <td>-76.52250</td>\n",
              "    </tr>\n",
              "    <tr>\n",
              "      <th>4</th>\n",
              "      <td>Silla de oficina</td>\n",
              "      <td>Muebles</td>\n",
              "      <td>335200.0</td>\n",
              "      <td>20200.0</td>\n",
              "      <td>07/11/2020</td>\n",
              "      <td>Maria Alfonso</td>\n",
              "      <td>Medellín</td>\n",
              "      <td>5</td>\n",
              "      <td>Nequi</td>\n",
              "      <td>1</td>\n",
              "      <td>6.25184</td>\n",
              "      <td>-75.56359</td>\n",
              "    </tr>\n",
              "  </tbody>\n",
              "</table>\n",
              "</div>\n",
              "    <div class=\"colab-df-buttons\">\n",
              "\n",
              "  <div class=\"colab-df-container\">\n",
              "    <button class=\"colab-df-convert\" onclick=\"convertToInteractive('df-68eaf336-c63e-4e4f-a541-29480345ddf1')\"\n",
              "            title=\"Convert this dataframe to an interactive table.\"\n",
              "            style=\"display:none;\">\n",
              "\n",
              "  <svg xmlns=\"http://www.w3.org/2000/svg\" height=\"24px\" viewBox=\"0 -960 960 960\">\n",
              "    <path d=\"M120-120v-720h720v720H120Zm60-500h600v-160H180v160Zm220 220h160v-160H400v160Zm0 220h160v-160H400v160ZM180-400h160v-160H180v160Zm440 0h160v-160H620v160ZM180-180h160v-160H180v160Zm440 0h160v-160H620v160Z\"/>\n",
              "  </svg>\n",
              "    </button>\n",
              "\n",
              "  <style>\n",
              "    .colab-df-container {\n",
              "      display:flex;\n",
              "      gap: 12px;\n",
              "    }\n",
              "\n",
              "    .colab-df-convert {\n",
              "      background-color: #E8F0FE;\n",
              "      border: none;\n",
              "      border-radius: 50%;\n",
              "      cursor: pointer;\n",
              "      display: none;\n",
              "      fill: #1967D2;\n",
              "      height: 32px;\n",
              "      padding: 0 0 0 0;\n",
              "      width: 32px;\n",
              "    }\n",
              "\n",
              "    .colab-df-convert:hover {\n",
              "      background-color: #E2EBFA;\n",
              "      box-shadow: 0px 1px 2px rgba(60, 64, 67, 0.3), 0px 1px 3px 1px rgba(60, 64, 67, 0.15);\n",
              "      fill: #174EA6;\n",
              "    }\n",
              "\n",
              "    .colab-df-buttons div {\n",
              "      margin-bottom: 4px;\n",
              "    }\n",
              "\n",
              "    [theme=dark] .colab-df-convert {\n",
              "      background-color: #3B4455;\n",
              "      fill: #D2E3FC;\n",
              "    }\n",
              "\n",
              "    [theme=dark] .colab-df-convert:hover {\n",
              "      background-color: #434B5C;\n",
              "      box-shadow: 0px 1px 3px 1px rgba(0, 0, 0, 0.15);\n",
              "      filter: drop-shadow(0px 1px 2px rgba(0, 0, 0, 0.3));\n",
              "      fill: #FFFFFF;\n",
              "    }\n",
              "  </style>\n",
              "\n",
              "    <script>\n",
              "      const buttonEl =\n",
              "        document.querySelector('#df-68eaf336-c63e-4e4f-a541-29480345ddf1 button.colab-df-convert');\n",
              "      buttonEl.style.display =\n",
              "        google.colab.kernel.accessAllowed ? 'block' : 'none';\n",
              "\n",
              "      async function convertToInteractive(key) {\n",
              "        const element = document.querySelector('#df-68eaf336-c63e-4e4f-a541-29480345ddf1');\n",
              "        const dataTable =\n",
              "          await google.colab.kernel.invokeFunction('convertToInteractive',\n",
              "                                                    [key], {});\n",
              "        if (!dataTable) return;\n",
              "\n",
              "        const docLinkHtml = 'Like what you see? Visit the ' +\n",
              "          '<a target=\"_blank\" href=https://colab.research.google.com/notebooks/data_table.ipynb>data table notebook</a>'\n",
              "          + ' to learn more about interactive tables.';\n",
              "        element.innerHTML = '';\n",
              "        dataTable['output_type'] = 'display_data';\n",
              "        await google.colab.output.renderOutput(dataTable, element);\n",
              "        const docLink = document.createElement('div');\n",
              "        docLink.innerHTML = docLinkHtml;\n",
              "        element.appendChild(docLink);\n",
              "      }\n",
              "    </script>\n",
              "  </div>\n",
              "\n",
              "\n",
              "<div id=\"df-9dabedcf-0526-4a5f-893a-302051dc3284\">\n",
              "  <button class=\"colab-df-quickchart\" onclick=\"quickchart('df-9dabedcf-0526-4a5f-893a-302051dc3284')\"\n",
              "            title=\"Suggest charts\"\n",
              "            style=\"display:none;\">\n",
              "\n",
              "<svg xmlns=\"http://www.w3.org/2000/svg\" height=\"24px\"viewBox=\"0 0 24 24\"\n",
              "     width=\"24px\">\n",
              "    <g>\n",
              "        <path d=\"M19 3H5c-1.1 0-2 .9-2 2v14c0 1.1.9 2 2 2h14c1.1 0 2-.9 2-2V5c0-1.1-.9-2-2-2zM9 17H7v-7h2v7zm4 0h-2V7h2v10zm4 0h-2v-4h2v4z\"/>\n",
              "    </g>\n",
              "</svg>\n",
              "  </button>\n",
              "\n",
              "<style>\n",
              "  .colab-df-quickchart {\n",
              "      --bg-color: #E8F0FE;\n",
              "      --fill-color: #1967D2;\n",
              "      --hover-bg-color: #E2EBFA;\n",
              "      --hover-fill-color: #174EA6;\n",
              "      --disabled-fill-color: #AAA;\n",
              "      --disabled-bg-color: #DDD;\n",
              "  }\n",
              "\n",
              "  [theme=dark] .colab-df-quickchart {\n",
              "      --bg-color: #3B4455;\n",
              "      --fill-color: #D2E3FC;\n",
              "      --hover-bg-color: #434B5C;\n",
              "      --hover-fill-color: #FFFFFF;\n",
              "      --disabled-bg-color: #3B4455;\n",
              "      --disabled-fill-color: #666;\n",
              "  }\n",
              "\n",
              "  .colab-df-quickchart {\n",
              "    background-color: var(--bg-color);\n",
              "    border: none;\n",
              "    border-radius: 50%;\n",
              "    cursor: pointer;\n",
              "    display: none;\n",
              "    fill: var(--fill-color);\n",
              "    height: 32px;\n",
              "    padding: 0;\n",
              "    width: 32px;\n",
              "  }\n",
              "\n",
              "  .colab-df-quickchart:hover {\n",
              "    background-color: var(--hover-bg-color);\n",
              "    box-shadow: 0 1px 2px rgba(60, 64, 67, 0.3), 0 1px 3px 1px rgba(60, 64, 67, 0.15);\n",
              "    fill: var(--button-hover-fill-color);\n",
              "  }\n",
              "\n",
              "  .colab-df-quickchart-complete:disabled,\n",
              "  .colab-df-quickchart-complete:disabled:hover {\n",
              "    background-color: var(--disabled-bg-color);\n",
              "    fill: var(--disabled-fill-color);\n",
              "    box-shadow: none;\n",
              "  }\n",
              "\n",
              "  .colab-df-spinner {\n",
              "    border: 2px solid var(--fill-color);\n",
              "    border-color: transparent;\n",
              "    border-bottom-color: var(--fill-color);\n",
              "    animation:\n",
              "      spin 1s steps(1) infinite;\n",
              "  }\n",
              "\n",
              "  @keyframes spin {\n",
              "    0% {\n",
              "      border-color: transparent;\n",
              "      border-bottom-color: var(--fill-color);\n",
              "      border-left-color: var(--fill-color);\n",
              "    }\n",
              "    20% {\n",
              "      border-color: transparent;\n",
              "      border-left-color: var(--fill-color);\n",
              "      border-top-color: var(--fill-color);\n",
              "    }\n",
              "    30% {\n",
              "      border-color: transparent;\n",
              "      border-left-color: var(--fill-color);\n",
              "      border-top-color: var(--fill-color);\n",
              "      border-right-color: var(--fill-color);\n",
              "    }\n",
              "    40% {\n",
              "      border-color: transparent;\n",
              "      border-right-color: var(--fill-color);\n",
              "      border-top-color: var(--fill-color);\n",
              "    }\n",
              "    60% {\n",
              "      border-color: transparent;\n",
              "      border-right-color: var(--fill-color);\n",
              "    }\n",
              "    80% {\n",
              "      border-color: transparent;\n",
              "      border-right-color: var(--fill-color);\n",
              "      border-bottom-color: var(--fill-color);\n",
              "    }\n",
              "    90% {\n",
              "      border-color: transparent;\n",
              "      border-bottom-color: var(--fill-color);\n",
              "    }\n",
              "  }\n",
              "</style>\n",
              "\n",
              "  <script>\n",
              "    async function quickchart(key) {\n",
              "      const quickchartButtonEl =\n",
              "        document.querySelector('#' + key + ' button');\n",
              "      quickchartButtonEl.disabled = true;  // To prevent multiple clicks.\n",
              "      quickchartButtonEl.classList.add('colab-df-spinner');\n",
              "      try {\n",
              "        const charts = await google.colab.kernel.invokeFunction(\n",
              "            'suggestCharts', [key], {});\n",
              "      } catch (error) {\n",
              "        console.error('Error during call to suggestCharts:', error);\n",
              "      }\n",
              "      quickchartButtonEl.classList.remove('colab-df-spinner');\n",
              "      quickchartButtonEl.classList.add('colab-df-quickchart-complete');\n",
              "    }\n",
              "    (() => {\n",
              "      let quickchartButtonEl =\n",
              "        document.querySelector('#df-9dabedcf-0526-4a5f-893a-302051dc3284 button');\n",
              "      quickchartButtonEl.style.display =\n",
              "        google.colab.kernel.accessAllowed ? 'block' : 'none';\n",
              "    })();\n",
              "  </script>\n",
              "</div>\n",
              "\n",
              "    </div>\n",
              "  </div>\n"
            ],
            "application/vnd.google.colaboratory.intrinsic+json": {
              "type": "dataframe",
              "variable_name": "tienda",
              "summary": "{\n  \"name\": \"tienda\",\n  \"rows\": 2359,\n  \"fields\": [\n    {\n      \"column\": \"Producto\",\n      \"properties\": {\n        \"dtype\": \"category\",\n        \"num_unique_values\": 51,\n        \"samples\": [\n          \"Guitarra ac\\u00fastica\",\n          \"Bal\\u00f3n de baloncesto\",\n          \"Smartwatch\"\n        ],\n        \"semantic_type\": \"\",\n        \"description\": \"\"\n      }\n    },\n    {\n      \"column\": \"Categor\\u00eda del Producto\",\n      \"properties\": {\n        \"dtype\": \"category\",\n        \"num_unique_values\": 8,\n        \"samples\": [\n          \"Muebles\",\n          \"Deportes y diversi\\u00f3n\",\n          \"Electr\\u00f3nicos\"\n        ],\n        \"semantic_type\": \"\",\n        \"description\": \"\"\n      }\n    },\n    {\n      \"column\": \"Precio\",\n      \"properties\": {\n        \"dtype\": \"number\",\n        \"std\": 614686.7653873172,\n        \"min\": 7600.0,\n        \"max\": 2977000.0,\n        \"num_unique_values\": 1937,\n        \"samples\": [\n          2499400.0,\n          14800.0,\n          80500.0\n        ],\n        \"semantic_type\": \"\",\n        \"description\": \"\"\n      }\n    },\n    {\n      \"column\": \"Costo de env\\u00edo\",\n      \"properties\": {\n        \"dtype\": \"number\",\n        \"std\": 32860.0017825605,\n        \"min\": 0.0,\n        \"max\": 160800.0,\n        \"num_unique_values\": 753,\n        \"samples\": [\n          117800.0,\n          54700.0,\n          45600.0\n        ],\n        \"semantic_type\": \"\",\n        \"description\": \"\"\n      }\n    },\n    {\n      \"column\": \"Fecha de Compra\",\n      \"properties\": {\n        \"dtype\": \"object\",\n        \"num_unique_values\": 1018,\n        \"samples\": [\n          \"15/09/2022\",\n          \"03/06/2020\",\n          \"06/11/2021\"\n        ],\n        \"semantic_type\": \"\",\n        \"description\": \"\"\n      }\n    },\n    {\n      \"column\": \"Vendedor\",\n      \"properties\": {\n        \"dtype\": \"category\",\n        \"num_unique_values\": 14,\n        \"samples\": [\n          \"Juliana Costa\",\n          \"Mariana Herrera\",\n          \"Pedro Gomez\"\n        ],\n        \"semantic_type\": \"\",\n        \"description\": \"\"\n      }\n    },\n    {\n      \"column\": \"Lugar de Compra\",\n      \"properties\": {\n        \"dtype\": \"category\",\n        \"num_unique_values\": 19,\n        \"samples\": [\n          \"Bogot\\u00e1\",\n          \"Pereira\",\n          \"Neiva\"\n        ],\n        \"semantic_type\": \"\",\n        \"description\": \"\"\n      }\n    },\n    {\n      \"column\": \"Calificaci\\u00f3n\",\n      \"properties\": {\n        \"dtype\": \"number\",\n        \"std\": 1,\n        \"min\": 1,\n        \"max\": 5,\n        \"num_unique_values\": 5,\n        \"samples\": [\n          1,\n          2,\n          5\n        ],\n        \"semantic_type\": \"\",\n        \"description\": \"\"\n      }\n    },\n    {\n      \"column\": \"M\\u00e9todo de pago\",\n      \"properties\": {\n        \"dtype\": \"category\",\n        \"num_unique_values\": 4,\n        \"samples\": [\n          \"Nequi\",\n          \"Tarjeta de d\\u00e9bito\",\n          \"Tarjeta de cr\\u00e9dito\"\n        ],\n        \"semantic_type\": \"\",\n        \"description\": \"\"\n      }\n    },\n    {\n      \"column\": \"Cantidad de cuotas\",\n      \"properties\": {\n        \"dtype\": \"number\",\n        \"std\": 2,\n        \"min\": 1,\n        \"max\": 24,\n        \"num_unique_values\": 15,\n        \"samples\": [\n          7,\n          14,\n          8\n        ],\n        \"semantic_type\": \"\",\n        \"description\": \"\"\n      }\n    },\n    {\n      \"column\": \"lat\",\n      \"properties\": {\n        \"dtype\": \"number\",\n        \"std\": 2.2874452492678627,\n        \"min\": -4.21528,\n        \"max\": 11.54444,\n        \"num_unique_values\": 19,\n        \"samples\": [\n          4.60971,\n          4.81333,\n          2.9273\n        ],\n        \"semantic_type\": \"\",\n        \"description\": \"\"\n      }\n    },\n    {\n      \"column\": \"lon\",\n      \"properties\": {\n        \"dtype\": \"number\",\n        \"std\": 1.2178272727088486,\n        \"min\": -77.28111,\n        \"max\": -67.9239,\n        \"num_unique_values\": 19,\n        \"samples\": [\n          -74.08175,\n          -75.69611,\n          -75.28189\n        ],\n        \"semantic_type\": \"\",\n        \"description\": \"\"\n      }\n    }\n  ]\n}"
            }
          },
          "metadata": {},
          "execution_count": 1
        }
      ],
      "source": [
        "import pandas as pd\n",
        "\n",
        "url = \"https://raw.githubusercontent.com/alura-es-cursos/challenge1-data-science-latam/refs/heads/main/base-de-datos-challenge1-latam/tienda_1%20.csv\"\n",
        "url2 = \"https://raw.githubusercontent.com/alura-es-cursos/challenge1-data-science-latam/refs/heads/main/base-de-datos-challenge1-latam/tienda_2.csv\"\n",
        "url3 = \"https://raw.githubusercontent.com/alura-es-cursos/challenge1-data-science-latam/refs/heads/main/base-de-datos-challenge1-latam/tienda_3.csv\"\n",
        "url4 = \"https://raw.githubusercontent.com/alura-es-cursos/challenge1-data-science-latam/refs/heads/main/base-de-datos-challenge1-latam/tienda_4.csv\"\n",
        "\n",
        "tienda = pd.read_csv(url)\n",
        "tienda2 = pd.read_csv(url2)\n",
        "tienda3 = pd.read_csv(url3)\n",
        "tienda4 = pd.read_csv(url4)\n",
        "\n",
        "tienda.head()"
      ]
    },
    {
      "cell_type": "markdown",
      "source": [
        "#1. Análisis de facturación\n",
        "\n"
      ],
      "metadata": {
        "id": "X62IW3KFUIYm"
      }
    },
    {
      "cell_type": "code",
      "source": [
        "all_tiendas = [tienda, tienda2, tienda3, tienda4]\n",
        "facturacion_total = pd.concat(all_tiendas, ignore_index=True)\n",
        "print(facturacion_total.head())\n",
        "print(facturacion_total.info())"
      ],
      "metadata": {
        "id": "xykobSftV64I",
        "colab": {
          "base_uri": "https://localhost:8080/"
        },
        "outputId": "ce1a7016-0872-4aee-a611-cc40aee35b1a"
      },
      "execution_count": 2,
      "outputs": [
        {
          "output_type": "stream",
          "name": "stdout",
          "text": [
            "            Producto Categoría del Producto    Precio  Costo de envío  \\\n",
            "0  Asistente virtual           Electrónicos  164300.0          6900.0   \n",
            "1    Mesa de comedor                Muebles  192300.0          8400.0   \n",
            "2      Juego de mesa               Juguetes  209600.0         15900.0   \n",
            "3         Microondas      Electrodomésticos  757500.0         41000.0   \n",
            "4   Silla de oficina                Muebles  335200.0         20200.0   \n",
            "\n",
            "  Fecha de Compra         Vendedor Lugar de Compra  Calificación  \\\n",
            "0      16/01/2021      Pedro Gomez          Bogotá             4   \n",
            "1      18/05/2022  Beatriz Morales        Medellín             1   \n",
            "2      15/03/2021   Juan Fernandez       Cartagena             1   \n",
            "3      03/05/2022   Juan Fernandez            Cali             4   \n",
            "4      07/11/2020    Maria Alfonso        Medellín             5   \n",
            "\n",
            "       Método de pago  Cantidad de cuotas       lat       lon  \n",
            "0  Tarjeta de crédito                   8   4.60971 -74.08175  \n",
            "1  Tarjeta de crédito                   4   6.25184 -75.56359  \n",
            "2  Tarjeta de crédito                   1  10.39972 -75.51444  \n",
            "3               Nequi                   1   3.43722 -76.52250  \n",
            "4               Nequi                   1   6.25184 -75.56359  \n",
            "<class 'pandas.core.frame.DataFrame'>\n",
            "RangeIndex: 9435 entries, 0 to 9434\n",
            "Data columns (total 12 columns):\n",
            " #   Column                  Non-Null Count  Dtype  \n",
            "---  ------                  --------------  -----  \n",
            " 0   Producto                9435 non-null   object \n",
            " 1   Categoría del Producto  9435 non-null   object \n",
            " 2   Precio                  9435 non-null   float64\n",
            " 3   Costo de envío          9435 non-null   float64\n",
            " 4   Fecha de Compra         9435 non-null   object \n",
            " 5   Vendedor                9435 non-null   object \n",
            " 6   Lugar de Compra         9435 non-null   object \n",
            " 7   Calificación            9435 non-null   int64  \n",
            " 8   Método de pago          9435 non-null   object \n",
            " 9   Cantidad de cuotas      9435 non-null   int64  \n",
            " 10  lat                     9435 non-null   float64\n",
            " 11  lon                     9435 non-null   float64\n",
            "dtypes: float64(4), int64(2), object(6)\n",
            "memory usage: 884.7+ KB\n",
            "None\n"
          ]
        }
      ]
    },
    {
      "cell_type": "code",
      "source": [
        "# Asegúrate de que las columnas 'Cantidad' y 'Precio' existan y sean numéricas\n",
        "if 'Cantidad de cuotas' in facturacion_total.columns and 'Precio' in facturacion_total.columns:\n",
        "    # Calcular el ingreso por cada fila\n",
        "    facturacion_total['Ingreso'] = facturacion_total['Cantidad de cuotas'] * facturacion_total['Precio']\n",
        "\n",
        "    # Calcular el ingreso total sumando la columna 'Ingreso'\n",
        "    ingreso_total = facturacion_total['Ingreso'].sum()\n",
        "    print(f\"\\nEl ingreso total de todas las tiendas es: ${ingreso_total:.2f}\")\n",
        "else:\n",
        "    print(\"\\nLas columnas 'Cantidad de cuotas' o 'Precio' no se encontraron en el DataFrame.\")"
      ],
      "metadata": {
        "id": "KDyr8E71V3m-",
        "colab": {
          "base_uri": "https://localhost:8080/"
        },
        "outputId": "eeda4cf2-3e65-4876-d839-004cc25d9712"
      },
      "execution_count": 5,
      "outputs": [
        {
          "output_type": "stream",
          "name": "stdout",
          "text": [
            "\n",
            "El ingreso total de todas las tiendas es: $13102551000.00\n"
          ]
        }
      ]
    },
    {
      "cell_type": "code",
      "source": [
        "if 'Producto' in facturacion_total.columns:\n",
        "    # Contar la frecuencia de cada producto\n",
        "    productos_mas_vendidos = facturacion_total['Producto'].value_counts().head(10) # Mostrar los 10 más vendidos\n",
        "    print(\"\\nLos 10 productos/servicios más vendidos son:\\n\", productos_mas_vendidos)\n",
        "else:\n",
        "    print(\"\\nLa columna 'Producto' no se encontró en el DataFrame.\")"
      ],
      "metadata": {
        "colab": {
          "base_uri": "https://localhost:8080/"
        },
        "id": "9sYX8_RIE9p5",
        "outputId": "433512ff-384f-4499-b05e-87bf28812fed"
      },
      "execution_count": 6,
      "outputs": [
        {
          "output_type": "stream",
          "name": "stdout",
          "text": [
            "\n",
            "Los 10 productos/servicios más vendidos son:\n",
            " Producto\n",
            "Mesa de noche                210\n",
            "Carrito de control remoto    206\n",
            "Microondas                   206\n",
            "Batería                      203\n",
            "Cama king                    201\n",
            "Secadora de ropa             200\n",
            "Modelado predictivo          200\n",
            "Set de ollas                 200\n",
            "Cama box                     199\n",
            "Bloques de construcción      199\n",
            "Name: count, dtype: int64\n"
          ]
        }
      ]
    },
    {
      "cell_type": "code",
      "source": [
        "if 'Fecha de Compra' in facturacion_total.columns:\n",
        "    # Convertir la columna 'Fecha' a formato datetime (si no lo está ya)\n",
        "    facturacion_total['Fecha de Compra'] = pd.to_datetime(facturacion_total['Fecha de Compra'])\n",
        "\n",
        "    # Extraer el mes de la fecha\n",
        "    facturacion_total['Mes'] = facturacion_total['Fecha de Compra'].dt.month\n",
        "\n",
        "    # Calcular el total de ingresos por mes\n",
        "    ventas_por_mes = facturacion_total.groupby('Mes')['Ingreso'].sum()\n",
        "    print(\"\\nIngresos totales por mes:\\n\", ventas_por_mes)\n",
        "else:\n",
        "    print(\"\\nLa columna 'Fecha de Compra' no se encontró en el DataFrame.\")"
      ],
      "metadata": {
        "colab": {
          "base_uri": "https://localhost:8080/"
        },
        "id": "c9EXz_7DFEzs",
        "outputId": "75e84136-8b00-483b-a704-f1ea9ea25811"
      },
      "execution_count": 11,
      "outputs": [
        {
          "output_type": "stream",
          "name": "stdout",
          "text": [
            "\n",
            "Ingresos totales por mes:\n",
            " Mes\n",
            "1     1.333473e+09\n",
            "2     1.299164e+09\n",
            "3     1.283198e+09\n",
            "4     1.030652e+09\n",
            "5     1.008648e+09\n",
            "6     8.728308e+08\n",
            "7     1.032308e+09\n",
            "8     1.011763e+09\n",
            "9     1.196280e+09\n",
            "10    8.326882e+08\n",
            "11    1.078385e+09\n",
            "12    1.123162e+09\n",
            "Name: Ingreso, dtype: float64\n"
          ]
        },
        {
          "output_type": "stream",
          "name": "stderr",
          "text": [
            "<ipython-input-11-e999cb4f9957>:3: UserWarning: Parsing dates in %d/%m/%Y format when dayfirst=False (the default) was specified. Pass `dayfirst=True` or specify a format to silence this warning.\n",
            "  facturacion_total['Fecha de Compra'] = pd.to_datetime(facturacion_total['Fecha de Compra'])\n"
          ]
        }
      ]
    },
    {
      "cell_type": "code",
      "source": [
        "if 'Ingreso' in facturacion_total.columns:\n",
        "    # Calcular el valor promedio de las facturas\n",
        "    valor_promedio_factura = facturacion_total['Ingreso'].mean()\n",
        "    print(f\"\\nEl valor promedio de las facturas es: ${valor_promedio_factura:.2f}\")\n",
        "else:\n",
        "    print(\"\\nLa columna 'Ingreso' no se encontró en el DataFrame. Asegúrate de haber calculado el ingreso primero.\")"
      ],
      "metadata": {
        "colab": {
          "base_uri": "https://localhost:8080/"
        },
        "id": "KUtJLkK_FlNr",
        "outputId": "af6d8221-a172-4ceb-dd87-f4d3765ee513"
      },
      "execution_count": 12,
      "outputs": [
        {
          "output_type": "stream",
          "name": "stdout",
          "text": [
            "\n",
            "El valor promedio de las facturas es: $1388717.65\n"
          ]
        }
      ]
    },
    {
      "cell_type": "markdown",
      "source": [
        "# 2. Ventas por categoría"
      ],
      "metadata": {
        "id": "2V_vcAPzWZmR"
      }
    },
    {
      "cell_type": "code",
      "source": [
        "# Primero, asegúrate de haber combinado los DataFrames si aún no lo has hecho\n",
        "if 'facturacion_total' not in locals():\n",
        "    all_tiendas = [tienda, tienda2, tienda3, tienda4]\n",
        "    facturacion_total = pd.concat(all_tiendas, ignore_index=True)\n",
        "\n",
        "# Asegúrate de haber calculado el ingreso por cada venta\n",
        "if 'Cantidad de Cuotas' in facturacion_total.columns and 'Precio' in facturacion_total.columns and 'Ingreso' not in facturacion_total.columns:\n",
        "    facturacion_total['Ingreso'] = facturacion_total['Cantidad de Cuotas'] * facturacion_total['Precio']\n",
        "elif 'Ingreso' not in facturacion_total.columns:\n",
        "    print(\"Advertencia: No se encontraron las columnas 'Cantidad de Cuotas' y 'Precio' para calcular el ingreso.\")\n",
        "\n",
        "# Ahora, calcula las ventas por categoría\n",
        "if 'Categoría del Producto' in facturacion_total.columns and 'Ingreso' in facturacion_total.columns:\n",
        "    # Agrupa por la columna de categoría y suma los ingresos\n",
        "    ventas_por_categoria = facturacion_total.groupby('Categoría del Producto')['Ingreso'].sum()\n",
        "\n",
        "    # Muestra el resultado\n",
        "    print(\"\\nTotal de ventas por categoría:\\n\", ventas_por_categoria)\n",
        "\n",
        "    # Si quieres ver las categorías ordenadas por ventas (de mayor a menor)\n",
        "    ventas_por_categoria_ordenado = ventas_por_categoria.sort_values(ascending=False)\n",
        "    print(\"\\nVentas por categoría (ordenado de mayor a menor):\\n\", ventas_por_categoria_ordenado)\n",
        "\n",
        "elif 'Categoría del Producto' not in facturacion_total.columns:\n",
        "    print(\"\\nLa columna 'Categoría del Producto' no se encontró en el DataFrame.\")"
      ],
      "metadata": {
        "id": "A34YupIuYhfF",
        "colab": {
          "base_uri": "https://localhost:8080/"
        },
        "outputId": "25fc1151-98cb-4015-f190-d31868beab6a"
      },
      "execution_count": 15,
      "outputs": [
        {
          "output_type": "stream",
          "name": "stdout",
          "text": [
            "\n",
            "Total de ventas por categoría:\n",
            " Categoría del Producto\n",
            "Artículos para el hogar    1.703604e+08\n",
            "Deportes y diversión       4.320055e+08\n",
            "Electrodomésticos          4.019072e+09\n",
            "Electrónicos               4.889815e+09\n",
            "Instrumentos musicales     1.044612e+09\n",
            "Juguetes                   2.116156e+08\n",
            "Libros                     1.130887e+08\n",
            "Muebles                    2.221981e+09\n",
            "Name: Ingreso, dtype: float64\n",
            "\n",
            "Ventas por categoría (ordenado de mayor a menor):\n",
            " Categoría del Producto\n",
            "Electrónicos               4.889815e+09\n",
            "Electrodomésticos          4.019072e+09\n",
            "Muebles                    2.221981e+09\n",
            "Instrumentos musicales     1.044612e+09\n",
            "Deportes y diversión       4.320055e+08\n",
            "Juguetes                   2.116156e+08\n",
            "Artículos para el hogar    1.703604e+08\n",
            "Libros                     1.130887e+08\n",
            "Name: Ingreso, dtype: float64\n"
          ]
        }
      ]
    },
    {
      "cell_type": "code",
      "source": [
        "import matplotlib.pyplot as plt\n",
        "import seaborn as sns\n",
        "\n",
        "# Asegúrate de haber calculado 'ventas_por_categoria' previamente\n",
        "if 'ventas_por_categoria' in locals():\n",
        "    plt.figure(figsize=(10, 6))\n",
        "    sns.barplot(x=ventas_por_categoria.index, y=ventas_por_categoria.values, palette=\"viridis\")\n",
        "    plt.xlabel(\"Categoría del Producto\")\n",
        "    plt.ylabel(\"Ingreso Total\")\n",
        "    plt.title(\"Ingreso Total por Categoría del Producto\")\n",
        "    plt.xticks(rotation=45, ha=\"right\")\n",
        "    plt.tight_layout()\n",
        "    plt.show()\n",
        "else:\n",
        "    print(\"Primero debes calcular las ventas por categoría.\")"
      ],
      "metadata": {
        "id": "yZR6cOjXYSk1",
        "colab": {
          "base_uri": "https://localhost:8080/",
          "height": 714
        },
        "outputId": "21782e01-15ef-4058-f266-3c0a5126e726"
      },
      "execution_count": 25,
      "outputs": [
        {
          "output_type": "stream",
          "name": "stderr",
          "text": [
            "<ipython-input-25-e0460089596c>:7: FutureWarning: \n",
            "\n",
            "Passing `palette` without assigning `hue` is deprecated and will be removed in v0.14.0. Assign the `x` variable to `hue` and set `legend=False` for the same effect.\n",
            "\n",
            "  sns.barplot(x=ventas_por_categoria.index, y=ventas_por_categoria.values, palette=\"viridis\")\n"
          ]
        },
        {
          "output_type": "display_data",
          "data": {
            "text/plain": [
              "<Figure size 1000x600 with 1 Axes>"
            ],
            "image/png": "[encoded data removed]"
          },
          "metadata": {}
        }
      ]
    },
    {
      "cell_type": "markdown",
      "source": [
        "# 3. Calificación promedio de la tienda\n"
      ],
      "metadata": {
        "id": "Rq6tU_xSY3jk"
      }
    },
    {
      "cell_type": "code",
      "source": [
        "# Primero, asegúrate de haber combinado los DataFrames si aún no lo has hecho\n",
        "if 'facturacion_total' not in locals():\n",
        "    all_tiendas = [tienda, tienda2, tienda3, tienda4]\n",
        "    facturacion_total = pd.concat(all_tiendas, ignore_index=True)\n",
        "\n",
        "# Verifica si la columna de calificación existe\n",
        "if 'Calificación' in facturacion_total.columns:\n",
        "    # Calcula la calificación promedio de todas las filas\n",
        "    calificacion_promedio = facturacion_total['Calificación'].mean()\n",
        "\n",
        "    # Muestra el resultado\n",
        "    print(f\"\\nLa calificación promedio de todas las tiendas es: {calificacion_promedio:.2f}\")\n",
        "\n",
        "elif 'Puntuación' in facturacion_total.columns:\n",
        "    # Si la columna se llama 'Puntuación', calcula el promedio\n",
        "    calificacion_promedio = facturacion_total['Puntuación'].mean()\n",
        "    print(f\"\\nLa calificación promedio de todas las tiendas es: {calificacion_promedio:.2f}\")\n",
        "\n",
        "else:\n",
        "    print(\"\\nNo se encontró una columna de calificación (ni 'Calificación' ni 'Puntuación') en el DataFrame.\")\n",
        "    print(\"Por favor, verifica el nombre de la columna que contiene la calificación.\")"
      ],
      "metadata": {
        "id": "bh3jjjJwY5MU",
        "colab": {
          "base_uri": "https://localhost:8080/"
        },
        "outputId": "1175c08f-0593-4939-d52f-232493f9f3be"
      },
      "execution_count": 16,
      "outputs": [
        {
          "output_type": "stream",
          "name": "stdout",
          "text": [
            "\n",
            "La calificación promedio de todas las tiendas es: 4.01\n"
          ]
        }
      ]
    },
    {
      "cell_type": "code",
      "source": [],
      "metadata": {
        "id": "I0KkjPoTY88F"
      },
      "execution_count": null,
      "outputs": []
    },
    {
      "cell_type": "markdown",
      "source": [
        "# 4. Productos más y menos vendidos"
      ],
      "metadata": {
        "id": "DmNp1KPBZCm-"
      }
    },
    {
      "cell_type": "code",
      "source": [
        "if 'facturacion_total' not in locals():\n",
        "    all_tiendas = [tienda, tienda2, tienda3, tienda4]\n",
        "    facturacion_total = pd.concat(all_tiendas, ignore_index=True)\n",
        "\n",
        "if 'Producto' in facturacion_total.columns:\n",
        "    # Calcular la frecuencia de cada producto\n",
        "    conteo_productos = facturacion_total['Producto'].value_counts()\n",
        "\n",
        "    # Obtener los productos más vendidos (los que aparecen con mayor frecuencia)\n",
        "    productos_mas_vendidos = conteo_productos.head(10) # Muestra los 10 más vendidos\n",
        "    print(\"\\nLos 10 productos más vendidos:\\n\", productos_mas_vendidos)\n",
        "\n",
        "    # Obtener los productos menos vendidos (los que aparecen con menor frecuencia)\n",
        "    productos_menos_vendidos = conteo_productos.tail(10) # Muestra los 10 menos vendidos\n",
        "    print(\"\\nLos 10 productos menos vendidos:\\n\", productos_menos_vendidos)\n",
        "\n",
        "else:\n",
        "    print(\"\\nLa columna 'Producto' no se encontró en el DataFrame.\")\n",
        "    print(\"Por favor, verifica el nombre de la columna que contiene los nombres de los productos.\")"
      ],
      "metadata": {
        "id": "qoyjqijQZHfF",
        "colab": {
          "base_uri": "https://localhost:8080/"
        },
        "outputId": "af3000f6-78c3-4ac0-fd1a-0fc05d3201dc"
      },
      "execution_count": 17,
      "outputs": [
        {
          "output_type": "stream",
          "name": "stdout",
          "text": [
            "\n",
            "Los 10 productos más vendidos:\n",
            " Producto\n",
            "Mesa de noche                210\n",
            "Carrito de control remoto    206\n",
            "Microondas                   206\n",
            "Batería                      203\n",
            "Cama king                    201\n",
            "Secadora de ropa             200\n",
            "Modelado predictivo          200\n",
            "Set de ollas                 200\n",
            "Cama box                     199\n",
            "Bloques de construcción      199\n",
            "Name: count, dtype: int64\n",
            "\n",
            "Los 10 productos menos vendidos:\n",
            " Producto\n",
            "Olla de presión                172\n",
            "Smartwatch                     172\n",
            "Set de vasos                   169\n",
            "Sillón                         168\n",
            "Asistente virtual              167\n",
            "Ciencia de datos con Python    166\n",
            "Guitarra eléctrica             165\n",
            "Mochila                        163\n",
            "Auriculares con micrófono      158\n",
            "Celular ABXY                   157\n",
            "Name: count, dtype: int64\n"
          ]
        }
      ]
    },
    {
      "cell_type": "code",
      "source": [],
      "metadata": {
        "id": "0Sw3sd4IZIGW"
      },
      "execution_count": null,
      "outputs": []
    },
    {
      "cell_type": "markdown",
      "source": [
        "# 5. Envío promedio por tienda"
      ],
      "metadata": {
        "id": "Fl0cGi3bZKqU"
      }
    },
    {
      "cell_type": "code",
      "source": [
        "# Calcular el costo de envío promedio para cada tienda individualmente\n",
        "\n",
        "# Tienda 1\n",
        "if 'Costo de envío' in tienda.columns:\n",
        "    envio_promedio_tienda1 = tienda['Costo de envío'].mean()\n",
        "    print(f\"Costo de envío promedio para Tienda 1: {envio_promedio_tienda1:.2f}\")\n",
        "else:\n",
        "    print(\"La columna 'Costo de envío' no se encontró en el DataFrame de Tienda 1.\")\n",
        "\n",
        "# Tienda 2\n",
        "if 'Costo de envío' in tienda2.columns:\n",
        "    envio_promedio_tienda2 = tienda2['Costo de envío'].mean()\n",
        "    print(f\"Costo de envío promedio para Tienda 2: {envio_promedio_tienda2:.2f}\")\n",
        "else:\n",
        "    print(\"La columna 'Costo de envío' no se encontró en el DataFrame de Tienda 2.\")\n",
        "\n",
        "# Tienda 3\n",
        "if 'Costo de envío' in tienda3.columns:\n",
        "    envio_promedio_tienda3 = tienda3['Costo de envío'].mean()\n",
        "    print(f\"Costo de envío promedio para Tienda 3: {envio_promedio_tienda3:.2f}\")\n",
        "else:\n",
        "    print(\"La columna 'Costo de envío' no se encontró en el DataFrame de Tienda 3.\")\n",
        "\n",
        "# Tienda 4\n",
        "if 'Costo de envío' in tienda4.columns:\n",
        "    envio_promedio_tienda4 = tienda4['Costo de envío'].mean()\n",
        "    print(f\"Costo de envío promedio para Tienda 4: {envio_promedio_tienda4:.2f}\")\n",
        "else:\n",
        "    print(\"La columna 'Costo de envío' no se encontró en el DataFrame de Tienda 4.\")"
      ],
      "metadata": {
        "id": "S2JeaCykZNy9",
        "colab": {
          "base_uri": "https://localhost:8080/"
        },
        "outputId": "cafc360d-7884-4367-e7cd-89c629af567d"
      },
      "execution_count": 21,
      "outputs": [
        {
          "output_type": "stream",
          "name": "stdout",
          "text": [
            "Costo de envío promedio para Tienda 1: 26018.61\n",
            "Costo de envío promedio para Tienda 2: 25216.24\n",
            "Costo de envío promedio para Tienda 3: 24805.68\n",
            "Costo de envío promedio para Tienda 4: 23459.46\n"
          ]
        }
      ]
    },
    {
      "cell_type": "markdown",
      "source": [
        "# Ingreso Total por cada TIENDA"
      ],
      "metadata": {
        "id": "e4ge-EMtLh7N"
      }
    },
    {
      "cell_type": "code",
      "source": [
        "def calcular_ingreso_total_unidad_por_fila(df, nombre_tienda):\n",
        "    if 'Precio' in df.columns:\n",
        "        ingreso_total = df['Precio'].sum()\n",
        "        print(f\"Ingreso total para {nombre_tienda} (asumiendo una unidad por fila): ${ingreso_total:.2f}\")\n",
        "    else:\n",
        "        print(f\"No se encontró la columna 'Precio' en el DataFrame de {nombre_tienda}.\")\n",
        "\n",
        "calcular_ingreso_total_unidad_por_fila(tienda, \"Tienda 1\")\n",
        "calcular_ingreso_total_unidad_por_fila(tienda2, \"Tienda 2\")\n",
        "calcular_ingreso_total_unidad_por_fila(tienda3, \"Tienda 3\")\n",
        "calcular_ingreso_total_unidad_por_fila(tienda4, \"Tienda 4\")"
      ],
      "metadata": {
        "colab": {
          "base_uri": "https://localhost:8080/"
        },
        "id": "m--BS3-sLn_c",
        "outputId": "7c6d7f4b-098b-4009-8b72-89328a863f08"
      },
      "execution_count": 23,
      "outputs": [
        {
          "output_type": "stream",
          "name": "stdout",
          "text": [
            "Ingreso total para Tienda 1 (asumiendo una unidad por fila): $1150880400.00\n",
            "Ingreso total para Tienda 2 (asumiendo una unidad por fila): $1116343500.00\n",
            "Ingreso total para Tienda 3 (asumiendo una unidad por fila): $1098019600.00\n",
            "Ingreso total para Tienda 4 (asumiendo una unidad por fila): $1038375700.00\n"
          ]
        }
      ]
    },
    {
      "cell_type": "code",
      "source": [
        "import matplotlib.pyplot as plt\n",
        "import seaborn as sns\n",
        "\n",
        "if 'ventas_por_categoria' in locals():\n",
        "    plt.figure(figsize=(10, 6))\n",
        "    sns.barplot(x=ventas_por_categoria.index, y=ventas_por_categoria.values, palette=\"viridis\")\n",
        "    plt.xlabel(\"Categoría del Producto\")\n",
        "    plt.ylabel(\"Ingreso Total\")\n",
        "    plt.title(\"Ingreso Total por Categoría del Producto\")\n",
        "    plt.xticks(rotation=45, ha=\"right\")\n",
        "    plt.tight_layout()\n",
        "    plt.show()\n",
        "else:\n",
        "    print(\"Primero debes calcular las ventas por categoría.\")"
      ],
      "metadata": {
        "colab": {
          "base_uri": "https://localhost:8080/",
          "height": 714
        },
        "id": "mM3XpRGFMBaq",
        "outputId": "843d4a9f-0142-4010-a1f1-30529947896a"
      },
      "execution_count": 24,
      "outputs": [
        {
          "output_type": "stream",
          "name": "stderr",
          "text": [
            "<ipython-input-24-e0460089596c>:7: FutureWarning: \n",
            "\n",
            "Passing `palette` without assigning `hue` is deprecated and will be removed in v0.14.0. Assign the `x` variable to `hue` and set `legend=False` for the same effect.\n",
            "\n",
            "  sns.barplot(x=ventas_por_categoria.index, y=ventas_por_categoria.values, palette=\"viridis\")\n"
          ]
        },
        {
          "output_type": "display_data",
          "data": {
            "text/plain": [
              "<Figure size 1000x600 with 1 Axes>"
            ],
            "image/png": "[encoded data removed]"
          },
          "metadata": {}
        }
      ]
    },
    {
      "cell_type": "markdown",
      "source": [
        "# Valoración media por tienda"
      ],
      "metadata": {
        "id": "DVNgcieQMvrV"
      }
    },
    {
      "cell_type": "code",
      "source": [
        "if 'facturacion_total' not in locals():\n",
        "    all_tiendas = [tienda, tienda2, tienda3, tienda4]\n",
        "    facturacion_total = pd.concat(all_tiendas, ignore_index=True)\n",
        "\n",
        "if 'Lugar de Compra' in facturacion_total.columns and 'Calificación' in facturacion_total.columns:\n",
        "\n",
        "    valoracion_media_por_tienda = facturacion_total.groupby('Lugar de Compra')['Calificación'].mean()\n",
        "\n",
        "    print(\"\\nValoración media por tienda:\\n\", valoracion_media_por_tienda)\n",
        "else:\n",
        "    print(\"\\nNo se encontraron las columnas 'Lugar de Compra' o 'Calificación' en el DataFrame.\")\n",
        "    print(\"Por favor, verifica los nombres de las columnas.\")"
      ],
      "metadata": {
        "colab": {
          "base_uri": "https://localhost:8080/"
        },
        "id": "gBXHjMKXM2zs",
        "outputId": "3f4b308c-6cbd-4734-9c38-808bb2121ffc"
      },
      "execution_count": 26,
      "outputs": [
        {
          "output_type": "stream",
          "name": "stdout",
          "text": [
            "\n",
            "Valoración media por tienda:\n",
            " Lugar de Compra\n",
            "Armenia          3.464286\n",
            "Barranquilla     3.803226\n",
            "Bogotá           4.113619\n",
            "Bucaramanga      3.977901\n",
            "Cali             4.046673\n",
            "Cartagena        4.020661\n",
            "Cúcuta           3.940860\n",
            "Inírida          3.642857\n",
            "Leticia          3.922535\n",
            "Manizales        3.634146\n",
            "Medellín         3.926534\n",
            "Neiva            3.800000\n",
            "Pasto            4.148936\n",
            "Pereira          4.013540\n",
            "Riohacha         3.895706\n",
            "Santa Marta      3.596026\n",
            "Soacha           3.894737\n",
            "Valledupar       4.071429\n",
            "Villavicencio    3.827586\n",
            "Name: Calificación, dtype: float64\n"
          ]
        }
      ]
    },
    {
      "cell_type": "code",
      "source": [
        "import matplotlib.pyplot as plt\n",
        "import seaborn as sns\n",
        "\n",
        "if 'valoracion_media_por_tienda' in locals():\n",
        "    plt.figure(figsize=(8, 6))\n",
        "    sns.barplot(x=valoracion_media_por_tienda.index, y=valoracion_media_por_tienda.values, palette=\"coolwarm\")\n",
        "    plt.xlabel(\"Lugar de Compra (Tienda)\")\n",
        "    plt.ylabel(\"Valoración Media\")\n",
        "    plt.title(\"Valoración Media por Tienda\")\n",
        "    plt.xticks(rotation=45, ha=\"right\")\n",
        "    plt.tight_layout()\n",
        "    plt.show()\n",
        "else:\n",
        "    print(\"Primero debes calcular la valoración media por tienda.\")"
      ],
      "metadata": {
        "colab": {
          "base_uri": "https://localhost:8080/",
          "height": 714
        },
        "id": "xjqBS9P7NFRO",
        "outputId": "65c606a2-2b43-40d7-e663-87ce122d3a2e"
      },
      "execution_count": 27,
      "outputs": [
        {
          "output_type": "stream",
          "name": "stderr",
          "text": [
            "<ipython-input-27-4570225e18ad>:7: FutureWarning: \n",
            "\n",
            "Passing `palette` without assigning `hue` is deprecated and will be removed in v0.14.0. Assign the `x` variable to `hue` and set `legend=False` for the same effect.\n",
            "\n",
            "  sns.barplot(x=valoracion_media_por_tienda.index, y=valoracion_media_por_tienda.values, palette=\"coolwarm\")\n"
          ]
        },
        {
          "output_type": "display_data",
          "data": {
            "text/plain": [
              "<Figure size 800x600 with 1 Axes>"
            ],
            "image/png": "[encoded data removed]"
          },
          "metadata": {}
        }
      ]
    },
    {
      "cell_type": "markdown",
      "source": [
        "# Recomendación de Tienda para el Sr. Juan\n",
        "Introducción:\n",
        "\n",
        "El presente informe tiene como objetivo analizar el rendimiento de cuatro tiendas (ubicadas en diferentes ciudades de Colombia, identificadas por su \"Lugar de Compra\") con base en diversos factores clave de su facturación y satisfacción del cliente. El análisis se basa en los datos proporcionados, considerando los ingresos totales, las categorías de productos con mayor y menor demanda, las calificaciones promedio de los clientes, los productos individuales más y menos vendidos, y el costo de envío promedio asociado a cada tienda. La finalidad de este informe es proporcionar una recomendación informada al Sr. Juan sobre el lugar de compra que presenta el panorama más favorable para enfocar sus esfuerzos de venta.\n",
        "\n",
        "Desarrollo:\n",
        "\n",
        "A continuación, se presentan los hallazgos clave obtenidos del análisis de cada factor relevante:\n",
        "\n",
        "1. Ingresos Totales por Lugar de Compra:\n",
        "\n",
        "El análisis de los ingresos totales (asumiendo una unidad vendida por fila) reveló que Bogotá generó el mayor volumen de ventas con $1,150,880,400.00, seguida por Medellín ($1,116,343,500.00), Cartagena ($1,098,019,600.00) y Cali ($1,038,375,700.00).\n",
        "\n",
        "2. Categorías de Productos Más y Menos Vendidas:\n",
        "\n",
        "La categoría de productos con mayor ingreso total fue Electrónicos ($4,889,815,000.00), seguida por Electrodomésticos y Muebles. La categoría con el menor ingreso total fue Libros ($113,088,700.00).\n",
        "\n",
        "3. Calificaciones Promedio de los Clientes por Lugar de Compra:\n",
        "\n",
        "La valoración promedio más alta la obtuvo Pasto con 4.15, seguida de Bogotá (4.11) y Valledupar (4.07). Los lugares de compra con las calificaciones promedio más bajas fueron Armenia (3.46) y Santa Marta (3.60).\n",
        "\n",
        "4. Productos Más y Menos Vendidos:\n",
        "\n",
        "Los productos más vendidos en términos de frecuencia fueron \"Mesa de noche\", \"Carrito de control remoto\" y \"Microondas\". Los productos menos vendidos fueron \"Celular ABXY\", \"Auriculares con micrófono\" y \"Mochila\".\n",
        "\n",
        "5. Costo de Envío Promedio por Lugar de Compra:\n",
        "\n",
        "El costo de envío promedio más alto se observó en Bogotá ($26,018.61), mientras que el más bajo fue en Tienda 4 (no identificada por ciudad en el análisis individual, con un promedio de $23,459.46). Asumiendo que Tienda 1 corresponde a Bogotá, Tienda 2 a Medellín, Tienda 3 a Cartagena y Tienda 4 a Cali (basándonos en el orden de los ingresos), el costo de envío promedio sería: Bogotá ($26,018.61), Medellín ($25,216.24), Cartagena ($24,805.68) y Cali ($23,459.46).\n",
        "\n",
        "Conclusión y Recomendación:\n",
        "\n",
        "Basándonos en el análisis integral, se recomienda al Sr. Juan enfocar sus esfuerzos de venta principalmente en Bogotá.\n",
        "\n",
        "Justificación:\n",
        "\n",
        "Si bien Pasto presenta la calificación promedio más alta de los clientes, Bogotá destaca como el lugar de compra con el mayor ingreso total. Esto sugiere un mercado más amplio y una mayor capacidad de generación de ventas. Aunque el costo de envío promedio en Bogotá es el más alto, el volumen de ingresos podría compensar este factor.\n",
        "\n",
        "Además, Bogotá muestra una calificación promedio de clientes relativamente alta (4.11), lo que indica una buena base de clientes satisfechos, aunque no sea la más alta. Esta combinación de alto volumen de ventas y buena satisfacción del cliente la convierte en un mercado atractivo.\n",
        "\n",
        "Al analizar las categorías de productos más vendidas (Electrónicos, Electrodomésticos y Muebles), el Sr. Juan puede enfocar su oferta en aquellos productos con mayor demanda en Bogotá. Igualmente, conocer los productos menos vendidos puede ayudar a evitar invertir en inventario con baja rotación.\n",
        "\n",
        "Si el Sr. Juan busca un mercado con la mayor satisfacción del cliente, Pasto sería una opción a considerar, pero con un volumen de ventas aparentemente menor. Podría ser una estrategia secundaria enfocarse en Pasto si el objetivo es construir una base de clientes muy leales a pesar de un volumen inicial menor.\n",
        "\n",
        "En resumen, Bogotá ofrece el mayor potencial de ingresos, combinado con una sólida satisfacción del cliente. Se recomienda al Sr. Juan realizar un análisis más profundo de los productos específicos que impulsan las ventas en Bogotá y las estrategias para optimizar los costos de envío en esta región.\n",
        "\n"
      ],
      "metadata": {
        "id": "WjRVcEjZUfRq"
      }
    }
  ]
}